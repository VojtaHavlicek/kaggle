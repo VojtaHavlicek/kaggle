{
 "cells": [
  {
   "cell_type": "markdown",
   "metadata": {},
   "source": [
    "# Submission Script\n",
    "\n",
    "Use this to submit the prediction. It produces a submission.parquet file after intreracting with a server. \n",
    "\n",
    "Don't forget to bundle the model into \"model.pkl\" pickle. "
   ]
  },
  {
   "cell_type": "code",
   "execution_count": null,
   "metadata": {},
   "outputs": [],
   "source": [
    "import os \n",
    "\n",
    "import pandas as pd\n",
    "import polars as pl \n",
    "import numpy as np\n",
    "\n",
    "import kaggle_evaluation.jane_street_inference_server\n",
    "\n",
    "lags_ : pl.DataFrame | None = None\n",
    "\n",
    "\n",
    "import pickle\n",
    "from sklearn.base import RegressorMixin\n",
    "\n",
    "# ---------------- \n",
    "# BUNDLED UTILS \n",
    "# ----------------\n",
    "def get_feature_cols():\n",
    "    NUM_FEATURE_COLS = 79\n",
    "    return [f'feature_{x:02}' for x in range(NUM_FEATURE_COLS)]\n",
    "\n",
    "# ----------------\n",
    "# LOAD THE MODEL \n",
    "# ----------------\n",
    "with open(\"model.pkl\", \"rb\") as file: \n",
    "    model:RegressorMixin = pickle.load(file)"
   ]
  },
  {
   "cell_type": "code",
   "execution_count": null,
   "metadata": {},
   "outputs": [],
   "source": [
    "# ----------------\n",
    "# PREDICT FUNCTION \n",
    "# ----------------\n",
    "\n",
    "def predict(test: pl.DataFrame, \n",
    "            lags: pl.DataFrame | None) -> pl.DataFrame | pd.DataFrame : \n",
    "    \"\"\" Prediction \"\"\"\n",
    "    global lags_ \n",
    "    if lags is not None:\n",
    "        lags_ = lags\n",
    "\n",
    "    feature_cols = get_feature_cols()\n",
    "\n",
    "    # Get the features from the test data.\n",
    "    X_test = test[feature_cols].to_numpy()\n",
    "    X_test = np.nan_to_num(X_test)\n",
    "\n",
    "    predictions = pl.DataFrame({\"row_id\": test.select(\"row_id\"), \n",
    "                            \"responder_6\": model.predict(X_test)})\n",
    "\n",
    "    if isinstance(predictions, pl.DataFrame):\n",
    "        assert predictions.columns == ['row_id', 'responder_6']\n",
    "    elif isinstance(predictions, pd.DataFrame):\n",
    "        assert (predictions.columns == ['row_id', 'responder_6']).all()\n",
    "    else:\n",
    "        raise TypeError('The predict function must return a DataFrame')\n",
    "    \n",
    "    # Confirm has as many rows as the test data.\n",
    "    assert len(predictions) == len(test)\n",
    "\n",
    "    return predictions"
   ]
  },
  {
   "cell_type": "code",
   "execution_count": 39,
   "metadata": {},
   "outputs": [],
   "source": [
    "RUNS_ON_KAGGLE = os.getenv('KAGGLE_URL_BASE') is not None\n",
    "\n",
    "inference_server = kaggle_evaluation.jane_street_inference_server.JSInferenceServer(predict)\n",
    "\n",
    "if os.getenv('KAGGLE_IS_COMPETITION_RERUN'):\n",
    "    inference_server.serve()\n",
    "elif RUNS_ON_KAGGLE:\n",
    "    inference_server.run_local_gateway(\n",
    "        (\n",
    "            '/kaggle/input/jane-street-real-time-market-data-forecasting/test.parquet',\n",
    "            '/kaggle/input/jane-street-real-time-market-data-forecasting/lags.parquet',\n",
    "        )\n",
    "    )\n",
    "else:\n",
    "    inference_server.run_local_gateway(\n",
    "        (\n",
    "            'test.parquet',\n",
    "            'lags.parquet',\n",
    "        )\n",
    "    )"
   ]
  },
  {
   "cell_type": "code",
   "execution_count": null,
   "metadata": {},
   "outputs": [],
   "source": []
  }
 ],
 "metadata": {
  "kernelspec": {
   "display_name": "Python 3",
   "language": "python",
   "name": "python3"
  },
  "language_info": {
   "codemirror_mode": {
    "name": "ipython",
    "version": 3
   },
   "file_extension": ".py",
   "mimetype": "text/x-python",
   "name": "python",
   "nbconvert_exporter": "python",
   "pygments_lexer": "ipython3",
   "version": "3.11.6"
  }
 },
 "nbformat": 4,
 "nbformat_minor": 2
}
